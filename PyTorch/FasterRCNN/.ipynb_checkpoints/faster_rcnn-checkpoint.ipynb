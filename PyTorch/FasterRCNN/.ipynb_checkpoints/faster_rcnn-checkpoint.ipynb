{
 "cells": [
  {
   "cell_type": "code",
   "execution_count": 2,
   "metadata": {},
   "outputs": [],
   "source": [
    "from __future__ import absolute_import\n",
    "from __future__ import division\n",
    "from __future__ import print_function\n",
    "\n",
    "import os\n",
    "import sys\n",
    "import numpy as np\n",
    "import argparse\n",
    "import time\n",
    "\n",
    "import torch\n",
    "from torch.autograd import Variable\n",
    "import torch.nn as nn\n",
    "import torch.optim as optim\n",
    "\n",
    "import torchvision.transforms as T\n",
    "from torch.utils.data import sampler\n",
    "from torch.utils.data import DataLoader\n",
    "\n"
   ]
  },
  {
   "cell_type": "code",
   "execution_count": 3,
   "metadata": {},
   "outputs": [],
   "source": [
    "def parse_args(argv):\n",
    "    parser = argparse.ArgumentParser()\n",
    "    \n",
    "    parser.add_argument('--dataset_dir', default='/home/lzhang/pascal/VOC2012/', type=str, help='training dataset dir')\n",
    "    parser.add_argument('--dataset_split', default='trainval', type=str, help='training dataset split')\n",
    "    parser.add_argument('--net', default='vgg16', type=str, help='vgg16, res101')\n",
    "    parser.add_argument('--min_size', default=600, type=int, help='min image resize')\n",
    "    parser.add_argument('--max_size', default=1000, type=int, help='max image resize')\n",
    "    parser.add_argument('--num_workers', default=8, type=int, help='number of worker to load data')\n",
    "    \n",
    "    parser.add_argument('--rpn_sigma', default=3, type=int, help='rpn sigma for l1_smooth_loss')\n",
    "    parser.add_argument('--roi_sigma', default=1, type=int, help='roi sigma for l1_smooth_loss')\n",
    "    \n",
    "    parser.add_argument('--lr', default=0.001, type=float, help='starting learning rate')\n",
    "    parser.add_argument('--lr_decay_step', default=5, type=int, help='epoch to do learning rate decay')\n",
    "    parser.add_argument('--lr_decay_gamma', default=0.1, type=float, help='learning rate decay ratio')\n",
    "    parser.add_argument('--weight_decay', default=0.0005, type=float, help='weight decay ratio')\n",
    "    parser.add_argument('--epochs', default=20, type=int, help='number of epochs to train')\n",
    "    parser.add_argument('--optimizer', default=\"sgd\", type=str, help='training optimizer')\n",
    "    parser.add_argument('--batch_size', default=1, type=int, help='batch_size')    \n",
    "    parser.add_argument('--cuda', action='store_true', help='whether use CUDA')\n",
    "    \n",
    "    parser.add_argument('--visdom_env', default='faster_rcnn', type=str, help='visdom env')\n",
    "    parser.add_argument('--visdom_port', default='8097', type=str, help='visdom port')\n",
    "    \n",
    "    parser.add_argument('--plot_every', default=100, type=int, help='number of iterations to plot')\n",
    "    parser.add_argument('--save_ckpt_every', default=10000, type=int, help='number of iterations to save checkpoint.')\n",
    "    parser.add_argument('--save_dir', default=\"/home/lzhang/pytorch/models\", type=str, help='directory to save models')\n",
    "\n",
    "    parser.add_argument('--debug', action='store_true', help='if print debug msg')   \n",
    "\n",
    "    return parser.parse_args()\n"
   ]
  },
  {
   "cell_type": "code",
   "execution_count": 9,
   "metadata": {},
   "outputs": [],
   "source": [
    "def train(args):\n",
    "    print('Called with args:')\n",
    "    print(args)\n",
    "    \n",
    "    dataset_dir = args.dataset_dir\n",
    "    dataset_split = args.dataset_split\n",
    "    \n",
    "    dataset = Dataset(args)\n",
    "    \n",
    "    \n",
    "    \n",
    "    \n",
    "    "
   ]
  },
  {
   "cell_type": "code",
   "execution_count": 8,
   "metadata": {},
   "outputs": [
    {
     "name": "stdout",
     "output_type": "stream",
     "text": [
      "0.5\n",
      "0.8333333333333334\n",
      "0.5\n",
      "600.0\n",
      "600.0\n"
     ]
    }
   ],
   "source": []
  },
  {
   "cell_type": "code",
   "execution_count": null,
   "metadata": {},
   "outputs": [],
   "source": []
  },
  {
   "cell_type": "code",
   "execution_count": null,
   "metadata": {},
   "outputs": [],
   "source": []
  }
 ],
 "metadata": {
  "kernelspec": {
   "display_name": "pytorch3",
   "language": "python",
   "name": "pytorch3"
  },
  "language_info": {
   "codemirror_mode": {
    "name": "ipython",
    "version": 3
   },
   "file_extension": ".py",
   "mimetype": "text/x-python",
   "name": "python",
   "nbconvert_exporter": "python",
   "pygments_lexer": "ipython3",
   "version": "3.6.6"
  }
 },
 "nbformat": 4,
 "nbformat_minor": 2
}
